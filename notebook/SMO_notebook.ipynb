{
 "cells": [
  {
   "cell_type": "code",
   "execution_count": 5,
   "id": "initial_id",
   "metadata": {
    "collapsed": true,
    "ExecuteTime": {
     "end_time": "2024-06-18T17:54:26.601426Z",
     "start_time": "2024-06-18T17:54:26.598820Z"
    }
   },
   "outputs": [],
   "source": [
    "import numpy as np\n",
    "#import pandas as pd\n",
    "#import bz2file as bz2\n",
    "import os\n",
    "from typing import Tuple, Optional\n"
   ]
  },
  {
   "cell_type": "markdown",
   "source": [
    "## READ gisette dataset\n",
    "\n",
    "each line is like this: \n",
    "-1 1:-1 2:-1 3:0.913914 4:-1 5:-1 6:0.4530 ...\n",
    "the first number is either 1 or -1 (label y)\n",
    " and it is followed by 5000 pairs of the form integer_index. the floats are the x values\n"
   ],
   "metadata": {
    "collapsed": false
   },
   "id": "76d2d9a077d300a3"
  },
  {
   "cell_type": "code",
   "outputs": [],
   "source": [
    "from src.utils import read_gisette_data"
   ],
   "metadata": {
    "collapsed": false,
    "ExecuteTime": {
     "end_time": "2024-06-18T17:54:27.627146Z",
     "start_time": "2024-06-18T17:54:27.624766Z"
    }
   },
   "id": "e40611c5cf56a43f",
   "execution_count": 6
  },
  {
   "cell_type": "code",
   "outputs": [
    {
     "name": "stdout",
     "output_type": "stream",
     "text": [
      "Labels shape: (1000,)\n",
      "Features shape: (1000, 5000)\n"
     ]
    }
   ],
   "source": [
    "MAX_LINES = 50\n",
    "# Replace 'path_to_gisette_scale.bz2' with the actual path to your file\n",
    "file_path = os.path.join(\"..\",\"data\",\"gisette_scale.t.bz2\")\n",
    "\n",
    "labels, features = read_gisette_data(file_path, max_lines=5000)\n",
    "\n",
    "# Print the shapes of the resulting arrays\n",
    "print(\"Labels shape:\", labels.shape)\n",
    "print(\"Features shape:\", features.shape)\n"
   ],
   "metadata": {
    "collapsed": false,
    "ExecuteTime": {
     "end_time": "2024-06-18T17:54:29.615424Z",
     "start_time": "2024-06-18T17:54:27.968343Z"
    }
   },
   "id": "1325be0581428573",
   "execution_count": 7
  },
  {
   "cell_type": "code",
   "outputs": [
    {
     "name": "stdout",
     "output_type": "stream",
     "text": [
      "/home/vassilis/Documents/Msc_Data_Science/Optimization/Assignment2/notebook\r\n"
     ]
    }
   ],
   "source": [],
   "metadata": {
    "collapsed": false,
    "ExecuteTime": {
     "end_time": "2024-06-18T16:54:52.240202Z",
     "start_time": "2024-06-18T16:54:52.130296Z"
    }
   },
   "id": "ed72e0dd85e4c5ff",
   "execution_count": 5
  },
  {
   "cell_type": "code",
   "outputs": [],
   "source": [],
   "metadata": {
    "collapsed": false
   },
   "id": "b6992faba787a462"
  }
 ],
 "metadata": {
  "kernelspec": {
   "display_name": "Python 3",
   "language": "python",
   "name": "python3"
  },
  "language_info": {
   "codemirror_mode": {
    "name": "ipython",
    "version": 2
   },
   "file_extension": ".py",
   "mimetype": "text/x-python",
   "name": "python",
   "nbconvert_exporter": "python",
   "pygments_lexer": "ipython2",
   "version": "2.7.6"
  }
 },
 "nbformat": 4,
 "nbformat_minor": 5
}
